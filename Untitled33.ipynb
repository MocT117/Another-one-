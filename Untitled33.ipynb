{
  "nbformat": 4,
  "nbformat_minor": 0,
  "metadata": {
    "colab": {
      "provenance": [],
      "authorship_tag": "ABX9TyPMWGpkZWV7hXiFxyK//9Ww",
      "include_colab_link": true
    },
    "kernelspec": {
      "name": "python3",
      "display_name": "Python 3"
    },
    "language_info": {
      "name": "python"
    }
  },
  "cells": [
    {
      "cell_type": "markdown",
      "metadata": {
        "id": "view-in-github",
        "colab_type": "text"
      },
      "source": [
        "<a href=\"https://colab.research.google.com/github/MocT117/Another-one-/blob/master/Untitled33.ipynb\" target=\"_parent\"><img src=\"https://colab.research.google.com/assets/colab-badge.svg\" alt=\"Open In Colab\"/></a>"
      ]
    },
    {
      "cell_type": "code",
      "execution_count": null,
      "metadata": {
        "id": "NVy_T12QOYJS"
      },
      "outputs": [],
      "source": [
        "import pandas as pd\n",
        "import os\n",
        "\n",
        "# Define the relative path to your Excel file\n",
        "# Example: 'data/raw_data.xlsx'\n",
        "file_path = 'your_folder/your_file.xlsx'\n",
        "\n",
        "# Load the Excel file into a DataFrame\n",
        "try:\n",
        "    df = pd.read_excel(file_path)\n",
        "except FileNotFoundError:\n",
        "    print(f\"Error: The file at '{file_path}' was not found.\")\n",
        "    print(\"Please check the file path and name.\")\n",
        "    exit()\n",
        "\n",
        "# Filter the DataFrame for rows where 'FRACCIÓN ARANCELARIA' matches the 'xx.xx' format\n",
        "# The regex '^\\d{2}\\.\\d{2}$' ensures the value starts with two digits, followed by a period,\n",
        "# and ends with two more digits.\n",
        "filtered_df = df[df['FRACCIÓN ARANCELARIA'].astype(str).str.match(r'^\\d{2}\\.\\d{2}$')]\n",
        "\n",
        "# Select only the 'FRACCIÓN ARANCELARIA' and 'DESCRIPCIÓN' columns\n",
        "result_df = filtered_df[['FRACCIÓN ARANCELARIA', 'DESCRIPCIÓN']]\n",
        "\n",
        "# Define the output path for the new Excel file\n",
        "output_folder = os.path.dirname(file_path)\n",
        "output_filename = 'filtered_output.xlsx'\n",
        "output_path = os.path.join(output_folder, output_filename)\n",
        "\n",
        "# Save the filtered data to a new Excel file\n",
        "result_df.to_excel(output_path, index=False)\n",
        "\n",
        "print(f\"The filtered data has been saved to '{output_path}'.\")"
      ]
    }
  ]
}