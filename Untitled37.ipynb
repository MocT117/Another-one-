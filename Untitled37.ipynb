{
  "nbformat": 4,
  "nbformat_minor": 0,
  "metadata": {
    "colab": {
      "provenance": [],
      "authorship_tag": "ABX9TyOx4WCa0s+SHFjA2AVP1oea",
      "include_colab_link": true
    },
    "kernelspec": {
      "name": "python3",
      "display_name": "Python 3"
    },
    "language_info": {
      "name": "python"
    }
  },
  "cells": [
    {
      "cell_type": "markdown",
      "metadata": {
        "id": "view-in-github",
        "colab_type": "text"
      },
      "source": [
        "<a href=\"https://colab.research.google.com/github/MocT117/Another-one-/blob/master/Untitled37.ipynb\" target=\"_parent\"><img src=\"https://colab.research.google.com/assets/colab-badge.svg\" alt=\"Open In Colab\"/></a>"
      ]
    },
    {
      "cell_type": "code",
      "execution_count": null,
      "metadata": {
        "id": "Y218CbjTWl9B"
      },
      "outputs": [],
      "source": [
        "import plotly.graph_objects as go\n",
        "\n",
        "# --- Preprocesamiento E2E ---\n",
        "df[\"Fecha SO KMEX\"] = pd.to_datetime(df[\"Fecha SO KMEX\"], errors=\"coerce\")\n",
        "df[\"Fecha remision\"] = pd.to_datetime(df[\"Fecha remision\"], errors=\"coerce\")\n",
        "df[\"dias_entrega\"] = (df[\"Fecha remision\"] - df[\"Fecha SO KMEX\"]).dt.days\n",
        "\n",
        "# Filtrar clasificaciones SPS y OH válidas\n",
        "df_e2e = df[\n",
        "    df[\"Clasificación\"].isin([\"SPS\", \"OH\"]) &\n",
        "    df[\"Fecha SO KMEX\"].notna() &\n",
        "    df[\"Fecha remision\"].notna() &\n",
        "    (df[\"dias_entrega\"] >= 0)\n",
        "].copy()\n",
        "\n",
        "# Extraer mes\n",
        "df_e2e[\"Mes\"] = df_e2e[\"Fecha SO KMEX\"].dt.to_period(\"M\").astype(str)\n",
        "\n",
        "# Agrupación por mes y clasificación\n",
        "grouped = (\n",
        "    df_e2e.groupby([\"Mes\", \"Clasificación\"])[\"dias_entrega\"]\n",
        "    .mean()\n",
        "    .round(1)\n",
        "    .reset_index()\n",
        ")\n",
        "\n",
        "# Pivotear para graficar por líneas\n",
        "pivot = grouped.pivot(index=\"Mes\", columns=\"Clasificación\", values=\"dias_entrega\").sort_index()\n",
        "\n",
        "# Calcular variación porcentual\n",
        "variacion = pivot.pct_change().fillna(0).round(3) * 100  # en porcentaje\n",
        "\n",
        "# --- Gráfico Plotly ---\n",
        "fig = go.Figure()\n",
        "limite = 60\n",
        "\n",
        "for clas in pivot.columns:\n",
        "    fig.add_trace(go.Scatter(\n",
        "        x=pivot.index,\n",
        "        y=pivot[clas],\n",
        "        mode=\"lines+markers+text\",\n",
        "        name=clas,\n",
        "        text=[\n",
        "            f\"{v:.1f} ({d:+.1f}%)\" if i > 0 else f\"{v:.1f}\"\n",
        "            for i, (v, d) in enumerate(zip(pivot[clas], variacion[clas]))\n",
        "        ],\n",
        "        textposition=\"top center\"\n",
        "    ))\n",
        "\n",
        "# Línea de referencia\n",
        "fig.add_hline(\n",
        "    y=limite,\n",
        "    line_dash=\"dash\",\n",
        "    annotation_text=f\"Límite {limite} días\",\n",
        "    annotation_position=\"top left\"\n",
        ")\n",
        "\n",
        "fig.update_layout(\n",
        "    title=\"📊 Tendencia Mensual E2E: SPS vs OH\",\n",
        "    xaxis_title=\"Mes\",\n",
        "    yaxis_title=\"Días promedio\",\n",
        "    hovermode=\"x unified\",\n",
        "    margin=dict(l=40, r=20, t=60, b=40)\n",
        ")\n",
        "\n",
        "st.subheader(\"📈 Tendencia mensual End-to-End por Clasificación\")\n",
        "st.plotly_chart(fig, use_container_width=True)\n"
      ]
    }
  ]
}