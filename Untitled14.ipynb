{
  "nbformat": 4,
  "nbformat_minor": 0,
  "metadata": {
    "colab": {
      "provenance": [],
      "authorship_tag": "ABX9TyPI0URTzXirbs5u/u4s8w5r",
      "include_colab_link": true
    },
    "kernelspec": {
      "name": "python3",
      "display_name": "Python 3"
    },
    "language_info": {
      "name": "python"
    }
  },
  "cells": [
    {
      "cell_type": "markdown",
      "metadata": {
        "id": "view-in-github",
        "colab_type": "text"
      },
      "source": [
        "<a href=\"https://colab.research.google.com/github/MocT117/Another-one-/blob/master/Untitled14.ipynb\" target=\"_parent\"><img src=\"https://colab.research.google.com/assets/colab-badge.svg\" alt=\"Open In Colab\"/></a>"
      ]
    },
    {
      "cell_type": "code",
      "execution_count": null,
      "metadata": {
        "id": "-iLSpnA2rj33"
      },
      "outputs": [],
      "source": [
        "\n",
        "# Validar que exista SO KAG en los archivos cargados\n",
        "if \"SO KAG\" in dataframes:\n",
        "    df_so_kag = dataframes[\"SO KAG\"]\n",
        "    # Creamos la clave en ambos DataFrames\n",
        "    # 1. En df_base_limpio\n",
        "    df_base_limpio['PO'] = df_base_limpio['PO'].fillna('').astype(str).str.strip()\n",
        "    df_base_limpio['Material'] = df_base_limpio['Material'].fillna('').astype(str).str.strip()\n",
        "    df_base_limpio['Key PO_Mat'] = df_base_limpio['PO'] + df_base_limpio['Material']\n",
        "\n",
        "    # 2. En df_so_kag\n",
        "    df_so_kag['Document'] = df_so_kag['Document'].fillna('').astype(str).str.strip()\n",
        "    df_so_kag['Material'] = df_so_kag['Material'].fillna('').astype(str).str.strip()\n",
        "    df_so_kag['Key PO_Mat'] = df_so_kag['Document'] + df_so_kag['Material']\n",
        "\n",
        "    # Nos aseguramos que 'Fecha de entrega' no tenga nulos ni espacios raros\n",
        "    df_so_kag['Fecha de entrega'] = df_so_kag['Fecha de entrega'].fillna('').astype(str).str.strip()\n",
        "\n",
        "    # Hacemos el merge para traer 'Fecha de entrega' como EXW Estimado\n",
        "    df_base_limpio = df_base_limpio.merge(\n",
        "        df_so_kag[['Key PO_Mat', 'Fecha de entrega']],\n",
        "        how='left',\n",
        "        left_on='Key PO_Mat',\n",
        "        right_on='Key PO_Mat'\n",
        "    )\n",
        "\n",
        "    # Creamos la columna final con el nombre solicitado\n",
        "    df_base_limpio['EXW Estimado'] = df_base_limpio['Fecha de entrega'].fillna('')\n",
        "\n",
        "    # Eliminamos columnas auxiliares del merge si no las necesitas\n",
        "    df_base_limpio = df_base_limpio.drop(columns=['Key PO_Mat', 'Fecha de entrega'])\n",
        "\n",
        "    print(\"EXW Estimado agregado correctamente desde SO KAG.\")\n",
        "else:\n",
        "    print(\"No se encontró el archivo SO KAG en los archivos cargados. No se puede traer EXW Estimado.\")\n",
        "\n",
        "# Verificamos los primeros resultados\n",
        "print(df_base_limpio[['PO', 'Material', 'EXW Estimado']].head(10))"
      ]
    }
  ]
}