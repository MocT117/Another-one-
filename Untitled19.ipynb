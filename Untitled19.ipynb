{
  "nbformat": 4,
  "nbformat_minor": 0,
  "metadata": {
    "colab": {
      "provenance": [],
      "authorship_tag": "ABX9TyMIUN8PfYX1YGn4HIWhaH/C",
      "include_colab_link": true
    },
    "kernelspec": {
      "name": "python3",
      "display_name": "Python 3"
    },
    "language_info": {
      "name": "python"
    }
  },
  "cells": [
    {
      "cell_type": "markdown",
      "metadata": {
        "id": "view-in-github",
        "colab_type": "text"
      },
      "source": [
        "<a href=\"https://colab.research.google.com/github/MocT117/Another-one-/blob/master/Untitled19.ipynb\" target=\"_parent\"><img src=\"https://colab.research.google.com/assets/colab-badge.svg\" alt=\"Open In Colab\"/></a>"
      ]
    },
    {
      "cell_type": "code",
      "execution_count": null,
      "metadata": {
        "id": "6sdz4Hid-nxv"
      },
      "outputs": [],
      "source": [
        "import matplotlib.pyplot as plt\n",
        "import seaborn as sns\n",
        "import streamlit as st\n",
        "\n",
        "# Asegúrate de que estas columnas estén en tu DataFrame cargado en sesión\n",
        "df[\"Fecha SO KMEX\"] = pd.to_datetime(df[\"Fecha SO KMEX\"], errors='coerce')\n",
        "df[\"Fecha remision\"] = pd.to_datetime(df[\"Fecha remision\"], errors='coerce')\n",
        "\n",
        "# Calcular diferencia en días\n",
        "df[\"dias_entrega\"] = (df[\"Fecha remision\"] - df[\"Fecha SO KMEX\"]).dt.days\n",
        "\n",
        "# Filtrar fechas válidas\n",
        "df_validas_tiempo = df[\n",
        "    df[\"Fecha SO KMEX\"].notna() &\n",
        "        df[\"Fecha remision\"].notna() &\n",
        "            (df[\"dias_entrega\"] >= 0)\n",
        "            ].copy()\n",
        "\n",
        "            # Agrupar por mes\n",
        "            df_validas_tiempo[\"Mes\"] = df_validas_tiempo[\"Fecha SO KMEX\"].dt.to_period(\"M\").astype(str)\n",
        "            promedios_mes = df_validas_tiempo.groupby(\"Mes\")[\"dias_entrega\"].mean().reset_index()\n",
        "\n",
        "            # Graficar línea de tendencia\n",
        "            st.subheader(\"📈 Tendencia Mensual - Fecha SO KMEX vs Fecha Remisión\")\n",
        "\n",
        "            fig, ax = plt.subplots(figsize=(10, 5))\n",
        "            sns.lineplot(data=promedios_mes, x=\"Mes\", y=\"dias_entrega\", marker=\"o\", ax=ax, color=\"black\", label=\"Promedio mensual\")\n",
        "            ax.axhline(60, color=\"red\", linestyle=\"--\", label=\"Límite aceptable (60 días)\")\n",
        "\n",
        "            # Etiquetas por punto\n",
        "            for i, row in promedios_mes.iterrows():\n",
        "                ax.text(i, row[\"dias_entrega\"] + 1, f\"{row['dias_entrega']:.1f}\", ha='center')\n",
        "\n",
        "                ax.set_title(\"Tendencia de días entre SO KMEX y Remisión\")\n",
        "                ax.set_xlabel(\"Mes\")\n",
        "                ax.set_ylabel(\"Días promedio\")\n",
        "                ax.legend()\n",
        "                ax.grid(True)\n",
        "\n",
        "                st.pyplot(fig)\n",
        ""
      ]
    }
  ]
}