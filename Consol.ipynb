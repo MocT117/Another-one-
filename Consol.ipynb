{
  "nbformat": 4,
  "nbformat_minor": 0,
  "metadata": {
    "colab": {
      "provenance": [],
      "authorship_tag": "ABX9TyNPuPmlhYsHgK68Q8r0V1DZ",
      "include_colab_link": true
    },
    "kernelspec": {
      "name": "python3",
      "display_name": "Python 3"
    },
    "language_info": {
      "name": "python"
    }
  },
  "cells": [
    {
      "cell_type": "markdown",
      "metadata": {
        "id": "view-in-github",
        "colab_type": "text"
      },
      "source": [
        "<a href=\"https://colab.research.google.com/github/MocT117/Another-one-/blob/master/Consol.ipynb\" target=\"_parent\"><img src=\"https://colab.research.google.com/assets/colab-badge.svg\" alt=\"Open In Colab\"/></a>"
      ]
    },
    {
      "cell_type": "code",
      "execution_count": null,
      "metadata": {
        "id": "0n5uz7BcWYIk"
      },
      "outputs": [],
      "source": [
        "\n",
        "if \"CONTROL DE IMPORTACIONES\" in dataframes:\n",
        "    df_import = dataframes[\"CONTROL DE IMPORTACIONES\"]\n",
        "\n",
        "    # Limpia y asegura tipo string de las claves de ambos lados\n",
        "    df_base_limpio['Delivery Note'] = df_base_limpio['Delivery Note'].astype(str).str.strip()\n",
        "    df_import['DN'] = df_import['DN'].astype(str).str.strip()\n",
        "\n",
        "    # Trae Consol (Número de consol)\n",
        "    col_consol = 'Número de consol'\n",
        "    if col_consol in df_import.columns:\n",
        "        df_base_limpio = df_base_limpio.merge(\n",
        "            df_import[['DN', col_consol]].drop_duplicates(subset=['DN']),\n",
        "            how='left',\n",
        "            left_on='Delivery Note',\n",
        "            right_on='DN'\n",
        "        )\n",
        "        df_base_limpio['Consol'] = df_base_limpio[col_consol].fillna('')\n",
        "        df_base_limpio = df_base_limpio.drop(columns=['DN', col_consol])\n",
        "    else:\n",
        "        print(f\"No se encontró la columna '{col_consol}' en CONTROL DE IMPORTACIONES.\")\n",
        "\n",
        "    # Trae Pedimento\n",
        "    col_pedimento = 'Pedimento'\n",
        "    if col_pedimento in df_import.columns:\n",
        "        df_base_limpio = df_base_limpio.merge(\n",
        "            df_import[['DN', col_pedimento]].drop_duplicates(subset=['DN']),\n",
        "            how='left',\n",
        "            left_on='Delivery Note',\n",
        "            right_on='DN'\n",
        "        )\n",
        "        df_base_limpio['Pedimento'] = df_base_limpio[col_pedimento].fillna('')\n",
        "        df_base_limpio = df_base_limpio.drop(columns=['DN', col_pedimento])\n",
        "    else:\n",
        "        print(f\"No se encontró la columna '{col_pedimento}' en CONTROL DE IMPORTACIONES.\")\n",
        "\n",
        "    # Trae Fecha entrada Aduana\n",
        "    col_fecha_aduana = 'Fecha entrada Aduana'\n",
        "    if col_fecha_aduana in df_import.columns:\n",
        "        df_base_limpio = df_base_limpio.merge(\n",
        "            df_import[['DN', col_fecha_aduana]].drop_duplicates(subset=['DN']),\n",
        "            how='left',\n",
        "            left_on='Delivery Note',\n",
        "            right_on='DN'\n",
        "        )\n",
        "        df_base_limpio['Fecha entrada Aduana'] = df_base_limpio[col_fecha_aduana].fillna('')\n",
        "        df_base_limpio = df_base_limpio.drop(columns=['DN', col_fecha_aduana])\n",
        "    else:\n",
        "        print(f\"No se encontró la columna '{col_fecha_aduana}' en CONTROL DE IMPORTACIONES.\")\n",
        "\n",
        "    print(\"Columnas Consol, Pedimento y Fecha entrada Aduana agregadas correctamente.\")\n",
        "else:\n",
        "    print(\"No se encontró el archivo CONTROL DE IMPORTACIONES en los archivos cargados. No se pueden traer las columnas Consol, Pedimento ni Fecha entrada Aduana.\")\n",
        "\n",
        "print(df_base_limpio[['Delivery Note', 'Consol', 'Pedimento', 'Fecha entrada Aduana']].head(10))\n"
      ]
    }
  ]
}