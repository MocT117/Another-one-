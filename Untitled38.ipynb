{
  "nbformat": 4,
  "nbformat_minor": 0,
  "metadata": {
    "colab": {
      "provenance": [],
      "authorship_tag": "ABX9TyP8tCQiSHpVVvs5qMfmRmOk",
      "include_colab_link": true
    },
    "kernelspec": {
      "name": "python3",
      "display_name": "Python 3"
    },
    "language_info": {
      "name": "python"
    }
  },
  "cells": [
    {
      "cell_type": "markdown",
      "metadata": {
        "id": "view-in-github",
        "colab_type": "text"
      },
      "source": [
        "<a href=\"https://colab.research.google.com/github/MocT117/Another-one-/blob/master/Untitled38.ipynb\" target=\"_parent\"><img src=\"https://colab.research.google.com/assets/colab-badge.svg\" alt=\"Open In Colab\"/></a>"
      ]
    },
    {
      "cell_type": "code",
      "execution_count": null,
      "metadata": {
        "id": "3t4OVfq1hmfV"
      },
      "outputs": [],
      "source": [
        "import plotly.graph_objects as go\n",
        "\n",
        "# Asegurar fechas válidas\n",
        "df[\"Fecha SO KMEX\"] = pd.to_datetime(df[\"Fecha SO KMEX\"], errors=\"coerce\")\n",
        "df[\"Fecha remision\"] = pd.to_datetime(df[\"Fecha remision\"], errors=\"coerce\")\n",
        "df[\"dias_entrega\"] = (df[\"Fecha remision\"] - df[\"Fecha SO KMEX\"]).dt.days\n",
        "\n",
        "# Filtrar registros válidos\n",
        "df_clasif = df[\n",
        "    df[\"Fecha SO KMEX\"].notna() &\n",
        "    df[\"Fecha remision\"].notna() &\n",
        "    df[\"Clasificación\"].notna() &\n",
        "    (df[\"dias_entrega\"] >= 0)\n",
        "].copy()\n",
        "\n",
        "# Agrupar por mes\n",
        "df_clasif[\"Mes\"] = df_clasif[\"Fecha SO KMEX\"].dt.to_period(\"M\").astype(str)\n",
        "promedios_por_clasif = (\n",
        "    df_clasif.groupby([\"Mes\", \"Clasificación\"])[\"dias_entrega\"]\n",
        "    .mean()\n",
        "    .round(1)\n",
        "    .reset_index()\n",
        ")\n",
        "\n",
        "# Pivot: index=mes, columnas=clasificación\n",
        "pivot = promedios_por_clasif.pivot(index=\"Mes\", columns=\"Clasificación\", values=\"dias_entrega\").sort_index()\n",
        "\n",
        "# === Gráfico Plotly ===\n",
        "fig_clasif = go.Figure()\n",
        "\n",
        "for clasif in pivot.columns:\n",
        "    fig_clasif.add_trace(go.Scatter(\n",
        "        x=pivot.index,\n",
        "        y=pivot[clasif],\n",
        "        mode=\"lines+markers+text\",\n",
        "        name=clasif,\n",
        "        text=pivot[clasif].apply(lambda x: f\"{x:.1f}\"),\n",
        "        textposition=\"top center\",\n",
        "        textfont=dict(\n",
        "            size=11,\n",
        "            color=\"#FFFFFF\"\n",
        "        ),\n",
        "        marker=dict(size=7)\n",
        "    ))\n",
        "\n",
        "# Línea límite (ej. 60 días)\n",
        "limite = 60\n",
        "fig_clasif.add_hline(\n",
        "    y=limite,\n",
        "    line_dash=\"dash\",\n",
        "    line_color=\"white\",\n",
        "    annotation_text=f\"Límite {limite} días\",\n",
        "    annotation_position=\"top left\",\n",
        "    annotation_font_color=\"white\"\n",
        ")\n",
        "\n",
        "fig_clasif.update_layout(\n",
        "    title=\"📊 Tendencia Mensual por Clasificación\",\n",
        "    xaxis_title=\"Mes\",\n",
        "    yaxis_title=\"Días promedio\",\n",
        "    hovermode=\"x unified\",\n",
        "    margin=dict(l=40, r=20, t=60, b=40),\n",
        "    plot_bgcolor=\"rgba(0,0,0,0)\",\n",
        "    paper_bgcolor=\"rgba(0,0,0,0)\",\n",
        "    font=dict(color=\"white\")\n",
        ")\n",
        "\n",
        "st.subheader(\"📈 Tendencia mensual por Clasificación (E2E)\")\n",
        "st.plotly_chart(fig_clasif, use_container_width=True)\n"
      ]
    }
  ]
}