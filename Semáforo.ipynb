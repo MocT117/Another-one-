{
  "nbformat": 4,
  "nbformat_minor": 0,
  "metadata": {
    "colab": {
      "provenance": [],
      "authorship_tag": "ABX9TyMP0kBsm7NM6XuDgu+RAf6o",
      "include_colab_link": true
    },
    "kernelspec": {
      "name": "python3",
      "display_name": "Python 3"
    },
    "language_info": {
      "name": "python"
    }
  },
  "cells": [
    {
      "cell_type": "markdown",
      "metadata": {
        "id": "view-in-github",
        "colab_type": "text"
      },
      "source": [
        "<a href=\"https://colab.research.google.com/github/MocT117/Another-one-/blob/master/Sem%C3%A1foro.ipynb\" target=\"_parent\"><img src=\"https://colab.research.google.com/assets/colab-badge.svg\" alt=\"Open In Colab\"/></a>"
      ]
    },
    {
      "cell_type": "code",
      "source": [
        "import streamlit as st\n",
        "import pandas as pd\n",
        "import plotly.graph_objects as go\n",
        "\n",
        "st.title(\"Dashboard Semáforo de Fechas PO vs EXW Real\")\n",
        "st.write(\"Carga tu archivo Excel para visualizar el semáforo de fechas:\")\n",
        "\n",
        "# Subida de archivo desde el dashboard (NO necesitas ruta manual, ni Colab)\n",
        "archivo = st.file_uploader(\"Sube tu archivo Excel\", type=[\"xlsx\"])\n",
        "\n",
        "if archivo:\n",
        "    df = pd.read_excel(archivo)\n",
        "\n",
        "    # Convertir a fecha\n",
        "    df['Fecha de PO'] = pd.to_datetime(df['Fecha de PO'], errors='coerce')\n",
        "    df['EXW Real'] = pd.to_datetime(df['EXW Real'], errors='coerce')\n",
        "\n",
        "    # Calcular diferencia de días\n",
        "    df['Diferencia días calculada'] = (df['EXW Real'] - df['Fecha de PO']).dt.days\n",
        "\n",
        "    # Semáforo\n",
        "    def status_semáforo(dias):\n",
        "        if pd.isna(dias):\n",
        "            return 'Sin fecha'\n",
        "        elif 0 <= dias <= 6:\n",
        "            return 'En tiempo'\n",
        "        elif dias >= 7:\n",
        "            return 'On Delay'\n",
        "        else:\n",
        "            return 'Revisar'\n",
        "\n",
        "    df['Semáforo'] = df['Diferencia días calculada'].apply(status_semáforo)\n",
        "\n",
        "    # Mostrar tabla con semáforo\n",
        "    st.subheader(\"Tabla con Semáforo\")\n",
        "    st.dataframe(df[['Fecha de PO', 'EXW Real', 'Diferencia días calculada', 'Semáforo']])\n",
        "\n",
        "    # Gauge chart con Plotly\n",
        "    st.subheader(\"Indicador Gauge: % En Tiempo\")\n",
        "\n",
        "    total_validos = df['Semáforo'].isin(['En tiempo', 'On Delay']).sum()\n",
        "    en_tiempo = (df['Semáforo'] == 'En tiempo').sum()\n",
        "\n",
        "    if total_validos > 0:\n",
        "        porcentaje_en_tiempo = en_tiempo / total_validos * 100\n",
        "    else:\n",
        "        porcentaje_en_tiempo = 0\n",
        "\n",
        "    fig = go.Figure(go.Indicator(\n",
        "        mode = \"gauge+number+delta\",\n",
        "        value = porcentaje_en_tiempo,\n",
        "        title = {'text': \"% En Tiempo (0-6 días)\"},\n",
        "        gauge = {\n",
        "            'axis': {'range': [None, 100]},\n",
        "            'steps': [\n",
        "                {'range': [0, 60], 'color': \"#F5B7B1\"},    # rojo\n",
        "                {'range': [60, 85], 'color': \"#F9E79F\"},   # amarillo\n",
        "                {'range': [85, 100], 'color': \"#ABEBC6\"}   # verde\n",
        "            ],\n",
        "            'threshold': {\n",
        "                'line': {'color': \"black\", 'width': 4},\n",
        "                'thickness': 0.75,\n",
        "                'value': porcentaje_en_tiempo\n",
        "            }\n",
        "        }\n",
        "    ))\n",
        "\n",
        "    st.plotly_chart(fig)\n",
        "\n",
        "    st.info(\"Dashboard generado por Kai 🤖\")\n",
        "\n",
        "else:\n",
        "    st.warning(\"Sube un archivo para ver el dashboard.\")\n"
      ],
      "metadata": {
        "id": "_-LesyuK5ps6"
      },
      "execution_count": null,
      "outputs": []
    }
  ]
}