{
  "nbformat": 4,
  "nbformat_minor": 0,
  "metadata": {
    "colab": {
      "provenance": [],
      "authorship_tag": "ABX9TyORs9dsZrJBAyev5VTklUiN",
      "include_colab_link": true
    },
    "kernelspec": {
      "name": "python3",
      "display_name": "Python 3"
    },
    "language_info": {
      "name": "python"
    }
  },
  "cells": [
    {
      "cell_type": "markdown",
      "metadata": {
        "id": "view-in-github",
        "colab_type": "text"
      },
      "source": [
        "<a href=\"https://colab.research.google.com/github/MocT117/Another-one-/blob/master/sem_foro.ipynb\" target=\"_parent\"><img src=\"https://colab.research.google.com/assets/colab-badge.svg\" alt=\"Open In Colab\"/></a>"
      ]
    },
    {
      "cell_type": "code",
      "source": [
        "import streamlit as st\n",
        "import pandas as pd\n",
        "import plotly.graph_objects as go\n",
        "\n",
        "st.set_page_config(page_title=\"Semáforo Fechas\", page_icon=\":bar_chart:\", layout=\"centered\")\n",
        "\n",
        "st.title(\"Dashboard Semáforo Fechas\")\n",
        "st.write(\"Carga tu archivo Excel para visualizar el semáforo de fechas:\")\n",
        "\n",
        "archivo = st.file_uploader(\"Sube tu archivo Excel\", type=[\"xlsx\"])\n",
        "\n",
        "if archivo:\n",
        "    df = pd.read_excel(archivo)\n",
        "\n",
        "    # Convertir a fecha\n",
        "    df['Fecha de PO'] = pd.to_datetime(df['Fecha de PO'], errors='coerce')\n",
        "    df['EXW Real'] = pd.to_datetime(df['EXW Real'], errors='coerce')\n",
        "\n",
        "    # Filtrar solo filas con EXW Real\n",
        "    df_validas = df[df['EXW Real'].notna()].copy()\n",
        "\n",
        "    # Calcular diferencia en días\n",
        "    df_validas['Diferencia días calculada'] = (df_validas['EXW Real'] - df_validas['Fecha de PO']).dt.days\n",
        "\n",
        "    # Semáforo\n",
        "    def status_semáforo(dias):\n",
        "        if pd.isna(dias):\n",
        "            return 'Sin fecha'\n",
        "        elif 0 <= dias <= 6:\n",
        "            return 'En tiempo'\n",
        "        elif dias >= 7:\n",
        "            return 'On Delay'\n",
        "        else:\n",
        "            return 'Revisar'\n",
        "    df_validas['Semáforo'] = df_validas['Diferencia días calculada'].apply(status_semáforo)\n",
        "\n",
        "    # Mostrar tabla\n",
        "    st.subheader(\"Tabla con Semáforo (solo registros con EXW Real)\")\n",
        "    st.dataframe(df_validas[['Fecha de PO', 'EXW Real', 'Diferencia días calculada', 'Semáforo']])\n",
        "\n",
        "    # Gauge chart: mostrar promedio de la diferencia de días\n",
        "    st.subheader(\"Diferencia Fecha PO vs EXW Real\")\n",
        "\n",
        "    # Calcula el promedio y el número de registros considerados\n",
        "    if not df_validas['Diferencia días calculada'].dropna().empty:\n",
        "        promedio_dias = df_validas['Diferencia días calculada'].mean()\n",
        "    else:\n",
        "        promedio_dias = 0\n",
        "    num_filas = len(df_validas)\n",
        "\n",
        "    # Definir límites para el gauge\n",
        "    minimo = 0\n",
        "    maximo = max(18, int((df_validas['Diferencia días calculada'].max() // 6 + 1) * 6))  # múltiplos de 6, mínimo 18\n",
        "\n",
        "    # Ticks en múltiplos de 6\n",
        "    tick_vals = list(range(minimo, maximo+1, 6))\n",
        "\n",
        "    fig = go.Figure(go.Indicator(\n",
        "        mode = \"gauge+number\",\n",
        "        value = promedio_dias,\n",
        "        number = {'suffix': \" días\", 'font': {'size': 36}},\n",
        "        title = {'text': \"Diferencia Fecha PO vs EXW Real\"},\n",
        "        gauge = {\n",
        "            'axis': {'range': [minimo, maximo], 'tickmode': 'array', 'tickvals': tick_vals, 'tickfont': {'size': 16}},\n",
        "            'steps': [\n",
        "                {'range': [minimo, 6], 'color': \"#ABEBC6\"},\n",
        "                {'range': [6, 14], 'color': \"#F9E79F\"},\n",
        "                {'range': [14, maximo], 'color': \"#F5B7B1\"}\n",
        "            ],\n",
        "            'bar': {'color': \"black\", 'thickness': 0.25},  # línea más delgada\n",
        "        }\n",
        "    ))\n",
        "\n",
        "    st.plotly_chart(fig)\n",
        "    # Mostrar número de registros justo debajo del gauge, centrado y con estilo\n",
        "    st.markdown(\n",
        "        f\"<div style='text-align:center; font-size:18px; margin-top:-30px; margin-bottom:20px;'><b>Nº de registros considerados: {num_filas}</b></div>\",\n",
        "        unsafe_allow_html=True\n",
        "    )\n",
        "\n",
        "    st.info(\"Dashboard generado por isra5 🤖\")\n",
        "\n",
        "else:\n",
        "    st.warning(\"Sube un archivo para ver el dashboard.\")\n",
        "\n",
        "\n",
        "\n"
      ],
      "metadata": {
        "id": "_-LesyuK5ps6"
      },
      "execution_count": null,
      "outputs": []
    }
  ]
}