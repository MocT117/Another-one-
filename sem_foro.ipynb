{
  "nbformat": 4,
  "nbformat_minor": 0,
  "metadata": {
    "colab": {
      "provenance": [],
      "authorship_tag": "ABX9TyOQoqrG7c0/DWOedXOxD2bL",
      "include_colab_link": true
    },
    "kernelspec": {
      "name": "python3",
      "display_name": "Python 3"
    },
    "language_info": {
      "name": "python"
    }
  },
  "cells": [
    {
      "cell_type": "markdown",
      "metadata": {
        "id": "view-in-github",
        "colab_type": "text"
      },
      "source": [
        "<a href=\"https://colab.research.google.com/github/MocT117/Another-one-/blob/master/sem_foro.ipynb\" target=\"_parent\"><img src=\"https://colab.research.google.com/assets/colab-badge.svg\" alt=\"Open In Colab\"/></a>"
      ]
    },
    {
      "cell_type": "code",
      "source": [
        "import streamlit as st\n",
        "import pandas as pd\n",
        "import plotly.graph_objects as go\n",
        "\n",
        "st.title(\"Dashboard Semáforo de Fechas PO vs EXW Real\")\n",
        "st.write(\"Carga tu archivo Excel para visualizar el semáforo de fechas:\")\n",
        "\n",
        "archivo = st.file_uploader(\"Sube tu archivo Excel\", type=[\"xlsx\"])\n",
        "\n",
        "if archivo:\n",
        "    df = pd.read_excel(archivo)\n",
        "\n",
        "    # Convertir a fecha\n",
        "    df['Fecha de PO'] = pd.to_datetime(df['Fecha de PO'], errors='coerce')\n",
        "    df['EXW Real'] = pd.to_datetime(df['EXW Real'], errors='coerce')\n",
        "\n",
        "    # Filtrar solo filas con EXW Real\n",
        "    df_validas = df[df['EXW Real'].notna()].copy()\n",
        "\n",
        "    # Calcular diferencia en días\n",
        "    df_validas['Diferencia días calculada'] = (df_validas['EXW Real'] - df_validas['Fecha de PO']).dt.days\n",
        "\n",
        "    # Semáforo\n",
        "    def status_semáforo(dias):\n",
        "        if pd.isna(dias):\n",
        "            return 'Sin fecha'\n",
        "        elif 0 <= dias <= 6:\n",
        "            return 'En tiempo'\n",
        "        elif dias >= 7:\n",
        "            return 'On Delay'\n",
        "        else:\n",
        "            return 'Revisar'\n",
        "    df_validas['Semáforo'] = df_validas['Diferencia días calculada'].apply(status_semáforo)\n",
        "\n",
        "    # Mostrar tabla\n",
        "    st.subheader(\"Tabla con Semáforo (solo registros con EXW Real)\")\n",
        "    st.dataframe(df_validas[['Fecha de PO', 'EXW Real', 'Diferencia días calculada', 'Semáforo']])\n",
        "\n",
        "    # Gauge chart: mostrar promedio de la diferencia de días\n",
        "    st.subheader(\"Indicador Gauge\")\n",
        "\n",
        "    # Calcula el promedio\n",
        "    if not df_validas['Diferencia días calculada'].dropna().empty:\n",
        "        promedio_dias = df_validas['Diferencia días calculada'].mean()\n",
        "    else:\n",
        "        promedio_dias = 0\n",
        "\n",
        "    # Define límites para el gauge (puedes personalizar)\n",
        "    minimo = 0\n",
        "    maximo = max(14, df_validas['Diferencia días calculada'].max() or 14)  # mínimo 14 días como rango\n",
        "\n",
        "    fig = go.Figure(go.Indicator(\n",
        "        mode = \"gauge+number\",\n",
        "        value = promedio_dias,\n",
        "        number = {'suffix': \" días\", 'font': {'size': 36}},\n",
        "        title = {'text': \"Indicador Gauge\"},\n",
        "        gauge = {\n",
        "            'axis': {'range': [minimo, maximo], 'tickmode': 'linear'},\n",
        "            'steps': [\n",
        "                {'range': [minimo, 6], 'color': \"#ABEBC6\"},    # verde\n",
        "                {'range': [6, 14], 'color': \"#F9E79F\"},        # amarillo\n",
        "                {'range': [14, maximo], 'color': \"#F5B7B1\"}    # rojo\n",
        "            ],\n",
        "            'bar': {'color': \"black\"}  # Manecilla en negro\n",
        "        }\n",
        "    ))\n",
        "\n",
        "    st.plotly_chart(fig)\n",
        "\n",
        "    st.info(\"Dashboard generado por Isra1 🤖\")\n",
        "\n",
        "else:\n",
        "    st.warning(\"Sube un archivo para ver el dashboard.\")\n",
        "\n"
      ],
      "metadata": {
        "id": "_-LesyuK5ps6"
      },
      "execution_count": null,
      "outputs": []
    }
  ]
}