{
  "nbformat": 4,
  "nbformat_minor": 0,
  "metadata": {
    "colab": {
      "provenance": [],
      "authorship_tag": "ABX9TyN8pUjfs7FDZJ2SORSOUIJS",
      "include_colab_link": true
    },
    "kernelspec": {
      "name": "python3",
      "display_name": "Python 3"
    },
    "language_info": {
      "name": "python"
    }
  },
  "cells": [
    {
      "cell_type": "markdown",
      "metadata": {
        "id": "view-in-github",
        "colab_type": "text"
      },
      "source": [
        "<a href=\"https://colab.research.google.com/github/MocT117/Another-one-/blob/master/Delivery.ipynb\" target=\"_parent\"><img src=\"https://colab.research.google.com/assets/colab-badge.svg\" alt=\"Open In Colab\"/></a>"
      ]
    },
    {
      "cell_type": "code",
      "execution_count": null,
      "metadata": {
        "id": "uyBHaRc3o-D5"
      },
      "outputs": [],
      "source": [
        "# ----------- NUEVO BLOQUE: VLOOKUP DE DELIVERY NOTE DESDE EXW KAG -----------\n",
        "\n",
        "# Verifica si existe el archivo de referencia EXW KAG\n",
        "if \"EXW KAG\" in dataframes:\n",
        "    df_exw_kag = dataframes[\"EXW KAG\"]\n",
        "    # Limpia y asegura el tipo string de las claves\n",
        "    df_base_limpio['Key SO'] = df_base_limpio['Key SO'].astype(str).str.strip()\n",
        "    df_exw_kag['Key'] = df_exw_kag['Key'].astype(str).str.strip()\n",
        "    # Haz el merge para traer la columna 'Entrega' (ajusta el nombre si tu columna es diferente)\n",
        "    df_base_limpio = df_base_limpio.merge(\n",
        "        df_exw_kag[['Key', 'Entrega']],\n",
        "        how='left',\n",
        "        left_on='Key SO',\n",
        "        right_on='Key'\n",
        "    )\n",
        "    # Crea la nueva columna Delivery Note con el resultado\n",
        "    df_base_limpio['Delivery Note'] = df_base_limpio['Entrega']\n",
        "    # Borra columnas auxiliares del merge si no las necesitas\n",
        "    df_base_limpio = df_base_limpio.drop(columns=['Key', 'Entrega'])\n",
        "    print(\"Delivery Note agregado correctamente.\")\n",
        "else:\n",
        "    print(\"No se encontró el archivo EXW KAG en los archivos cargados. No se puede traer Delivery Note.\")\n",
        "\n",
        "# Muestra las primeras filas para verificar\n",
        "print(df_base_limpio[['Key SO', 'Delivery Note']].head(10))"
      ]
    }
  ]
}