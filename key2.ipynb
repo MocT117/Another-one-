{
  "nbformat": 4,
  "nbformat_minor": 0,
  "metadata": {
    "colab": {
      "provenance": [],
      "authorship_tag": "ABX9TyOZMOGzMZmbma9pbSgZHDg0",
      "include_colab_link": true
    },
    "kernelspec": {
      "name": "python3",
      "display_name": "Python 3"
    },
    "language_info": {
      "name": "python"
    }
  },
  "cells": [
    {
      "cell_type": "markdown",
      "metadata": {
        "id": "view-in-github",
        "colab_type": "text"
      },
      "source": [
        "<a href=\"https://colab.research.google.com/github/MocT117/Another-one-/blob/master/key2.ipynb\" target=\"_parent\"><img src=\"https://colab.research.google.com/assets/colab-badge.svg\" alt=\"Open In Colab\"/></a>"
      ]
    },
    {
      "cell_type": "code",
      "execution_count": null,
      "metadata": {
        "id": "si-qjRcuG3Qi"
      },
      "outputs": [],
      "source": [
        "if \"101EM\" in dataframes:\n",
        "    df_101em = dataframes[\"101EM\"]\n",
        "\n",
        "    # 1. Armar la clave Key2 en ambos dataframes (base y 101EM)\n",
        "    # En tu base:\n",
        "    df_base_limpio['SO KMEX'] = df_base_limpio['SO KMEX'].fillna('').astype(str).str.strip()\n",
        "    df_base_limpio['Posición KMEX'] = df_base_limpio['Posición KMEX'].fillna('').astype(str).str.strip()\n",
        "    df_base_limpio['Key2'] = df_base_limpio['SO KMEX'] + df_base_limpio['Posición KMEX']\n",
        "\n",
        "    # En el DataFrame 101EM:\n",
        "    df_101em['SO KMEX'] = df_101em['SO KMEX'].fillna('').astype(str).str.strip()\n",
        "    df_101em['Posición KMEX'] = df_101em['Posición KMEX'].fillna('').astype(str).str.strip()\n",
        "    df_101em['Key2'] = df_101em['SO KMEX'] + df_101em['Posición KMEX']\n",
        "\n",
        "    # 2. Asegúrate de que la columna exista y se llame 'Fe.contabilización'\n",
        "    print(\"Columnas de 101EM:\", df_101em.columns.tolist())\n",
        "\n",
        "    col_fecha_em = 'Fe.contabilización'  # Cambia si el nombre es diferente\n",
        "\n",
        "    if col_fecha_em in df_101em.columns:\n",
        "        df_101em = df_101em[['Key2', col_fecha_em]].drop_duplicates(subset=['Key2'])\n",
        "        df_base_limpio = df_base_limpio.merge(\n",
        "            df_101em,\n",
        "            how='left',\n",
        "            left_on='Key2',\n",
        "            right_on='Key2'\n",
        "        )\n",
        "        df_base_limpio['Fecha EM'] = df_base_limpio[col_fecha_em].fillna('')\n",
        "        df_base_limpio = df_base_limpio.drop(columns=[col_fecha_em])\n",
        "        print(\"Columna 'Fecha EM' agregada correctamente.\")\n",
        "    else:\n",
        "        print(f\"No se encontró la columna '{col_fecha_em}' en el archivo 101EM.\")\n",
        "\n",
        "else:\n",
        "    print(\"No se encontró el archivo 101EM en los archivos cargados. No se puede traer Fecha EM.\")\n",
        "\n",
        "\n",
        "print(df_base_limpio[['Key2', 'Fecha EM']].head(10))\n"
      ]
    }
  ]
}