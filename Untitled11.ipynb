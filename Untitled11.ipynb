{
  "nbformat": 4,
  "nbformat_minor": 0,
  "metadata": {
    "colab": {
      "provenance": [],
      "authorship_tag": "ABX9TyPZoo6p2icH8SEZ6YvFsbVM",
      "include_colab_link": true
    },
    "kernelspec": {
      "name": "python3",
      "display_name": "Python 3"
    },
    "language_info": {
      "name": "python"
    }
  },
  "cells": [
    {
      "cell_type": "markdown",
      "metadata": {
        "id": "view-in-github",
        "colab_type": "text"
      },
      "source": [
        "<a href=\"https://colab.research.google.com/github/MocT117/Another-one-/blob/master/Untitled11.ipynb\" target=\"_parent\"><img src=\"https://colab.research.google.com/assets/colab-badge.svg\" alt=\"Open In Colab\"/></a>"
      ]
    },
    {
      "cell_type": "code",
      "execution_count": null,
      "metadata": {
        "id": "yE7_BzGgS1Vv"
      },
      "outputs": [],
      "source": [
        "import os\n",
        "import pandas as pd\n",
        "from datetime import datetime\n",
        "\n",
        "# -------------------- #\n",
        "# Parámetros generales #\n",
        "# -------------------- #\n",
        "\n",
        "INPUT_FOLDER = 'raw_data/'\n",
        "OUTPUT_FOLDER = 'output/'\n",
        "\n",
        "# --------------------------- #\n",
        "# Función: leer archivos Excel\n",
        "# --------------------------- #\n",
        "def cargar_archivos_excel(ruta_carpeta):\n",
        "    archivos = [f for f in os.listdir(ruta_carpeta) if f.endswith('.xlsx')]\n",
        "        df_total = pd.DataFrame()\n",
        "\n",
        "            for archivo in archivos:\n",
        "                    ruta_completa = os.path.join(ruta_carpeta, archivo)\n",
        "                            try:\n",
        "                                        df = pd.read_excel(ruta_completa, engine='openpyxl')\n",
        "                                                    df_total = pd.concat([df_total, df], ignore_index=True)\n",
        "                                                            except Exception as e:\n",
        "                                                                        print(f\"Error al leer {archivo}: {e}\")\n",
        "\n",
        "                                                                                return df_total\n",
        "\n",
        "                                                                                # ----------------------------------------- #\n",
        "                                                                                # Función: crear la columna clave compuesta #\n",
        "                                                                                # ----------------------------------------- #\n",
        "                                                                                def crear_columna_key(df):\n",
        "                                                                                    df = df.copy()\n",
        "                                                                                        df['SalesOrder_clean'] = df['Sales order no.'].astype(str).str.lstrip('0')\n",
        "                                                                                            df['Key'] = df['SalesOrder_clean'] + '_' + df['MaterialNumber'].astype(str)\n",
        "                                                                                                return df\n",
        "\n",
        "                                                                                                # ------------------------------------------------------------------- #\n",
        "                                                                                                # Función: determinar la fuente de la MAD (texto o columna secundaria)\n",
        "                                                                                                # ------------------------------------------------------------------- #\n",
        "                                                                                                def seleccionar_fuente_mad(df):\n",
        "                                                                                                    df = df.copy()\n",
        "                                                                                                        df['MAD_fuente'] = df.apply(lambda row: 'text' if pd.notnull(row.get('Text sales order')) else 'material_staging', axis=1)\n",
        "                                                                                                            return df\n",
        "\n",
        "                                                                                                            # ------------------------------------ #\n",
        "                                                                                                            # Función principal para la ejecución  #\n",
        "                                                                                                            # ------------------------------------ #\n",
        "                                                                                                            def main():\n",
        "                                                                                                                # Crear carpeta de salida si no existe\n",
        "                                                                                                                    os.makedirs(OUTPUT_FOLDER, exist_ok=True)\n",
        "\n",
        "                                                                                                                        # 1. Cargar Excel\n",
        "                                                                                                                            df = cargar_archivos_excel(INPUT_FOLDER)\n",
        "\n",
        "                                                                                                                                    # Validación básica\n",
        "                                                                                                                                        columnas_esperadas = ['Sales order no.', 'MaterialNumber', 'Text sales order']\n",
        "                                                                                                                                            for col in columnas_esperadas:\n",
        "                                                                                                                                                    if col not in df.columns:\n",
        "                                                                                                                                                                raise ValueError(f\"Falta la columna requerida: {col}\")\n",
        "\n",
        "                                                                                                                                                                    # 2. Crear columna Key\n",
        "                                                                                                                                                                        df = crear_columna_key(df)\n",
        "\n",
        "                                                                                                                                                                            # 3. Determinar fuente MAD\n",
        "                                                                                                                                                                                df = seleccionar_fuente_mad(df)\n",
        "\n",
        "                                                                                                                                                                                    # 4. Crear columnas iniciales de la base\n",
        "                                                                                                                                                                                        df['Ultima_Fecha_MAD'] = None\n",
        "                                                                                                                                                                                            df['Cambios_MAD'] = 0\n",
        "\n",
        "                                                                                                                                                                                                # 5. Exportar resultado inicial\n",
        "                                                                                                                                                                                                    nombre_archivo = f'output/consolidado_{datetime.today().strftime(\"%Y%m%d\")}.xlsx'\n",
        "                                                                                                                                                                                                        df.to_excel(nombre_archivo, index=False)\n",
        "                                                                                                                                                                                                            print(f\"✅ Archivo exportado: {nombre_archivo}\")\n",
        "\n",
        "                                                                                                                                                                                                            # Ejecutar\n",
        "                                                                                                                                                                                                            if __name__ == '__main__':\n",
        "                                                                                                                                                                                                                main()\n",
        ""
      ]
    }
  ]
}