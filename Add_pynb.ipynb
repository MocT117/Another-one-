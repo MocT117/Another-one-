{
  "nbformat": 4,
  "nbformat_minor": 0,
  "metadata": {
    "colab": {
      "provenance": [],
      "authorship_tag": "ABX9TyO88YuOAteEGeDEdiV7cXAK",
      "include_colab_link": true
    },
    "kernelspec": {
      "name": "python3",
      "display_name": "Python 3"
    },
    "language_info": {
      "name": "python"
    }
  },
  "cells": [
    {
      "cell_type": "markdown",
      "metadata": {
        "id": "view-in-github",
        "colab_type": "text"
      },
      "source": [
        "<a href=\"https://colab.research.google.com/github/MocT117/Another-one-/blob/master/Add_pynb.ipynb\" target=\"_parent\"><img src=\"https://colab.research.google.com/assets/colab-badge.svg\" alt=\"Open In Colab\"/></a>"
      ]
    },
    {
      "cell_type": "code",
      "execution_count": null,
      "metadata": {
        "id": "j_LMYSR1G8nD"
      },
      "outputs": [],
      "source": [
        "import pandas as pd\n",
        "import streamlit as st\n",
        "import plotly.graph_objects as go\n",
        "\n",
        "# Asumimos que df_validas ya existe y tiene 'Fecha de PO' y 'Diferencia días calculada'\n",
        "\n",
        "# Crear columna de mes/año\n",
        "df_validas['AñoMes'] = df_validas['Fecha de PO'].dt.to_period('M').astype(str)\n",
        "\n",
        "# Calcular percentiles por mes\n",
        "percentiles = [3, 15, 50, 85, 97]\n",
        "percentile_labels = ['P3', 'P15', 'P50', 'P85', 'P97']\n",
        "colors = ['#FFA07A', '#F4D03F', '#27AE60', '#F39C12', '#C0392B']  # Personalízalos si quieres\n",
        "\n",
        "df_percentiles = (\n",
        "    df_validas.groupby('AñoMes')['Diferencia días calculada']\n",
        "        .apply(lambda x: pd.Series([x.quantile(p/100) for p in percentiles], index=percentile_labels))\n",
        "            .reset_index()\n",
        "            )\n",
        "\n",
        "            # Crear la figura tipo \"curvas de percentil\"\n",
        "            fig = go.Figure()\n",
        "\n",
        "            for label, color in zip(percentile_labels, colors):\n",
        "                fig.add_trace(go.Scatter(\n",
        "                        x=df_percentiles['AñoMes'],\n",
        "                                y=df_percentiles[label],\n",
        "                                        mode='lines+markers',\n",
        "                                                name=label,\n",
        "                                                        line=dict(color=color, width=3),\n",
        "                                                                marker=dict(size=5)\n",
        "                                                                    ))\n",
        "\n",
        "                                                                    fig.update_layout(\n",
        "                                                                        title=\"Curvas de Percentiles Mensuales: Diferencia de Días Calculada\",\n",
        "                                                                            xaxis_title=\"Mes/Año\",\n",
        "                                                                                yaxis_title=\"Diferencia de días\",\n",
        "                                                                                    legend_title=\"Percentil\",\n",
        "                                                                                        plot_bgcolor=\"white\",\n",
        "                                                                                            font=dict(size=15),\n",
        "                                                                                                height=500,\n",
        "                                                                                                    width=900\n",
        "                                                                                                    )\n",
        "\n",
        "                                                                                                    st.subheader(\"Curvas de percentiles mensuales\")\n",
        "                                                                                                    st.plotly_chart(fig)\n",
        ""
      ]
    }
  ]
}