{
  "nbformat": 4,
  "nbformat_minor": 0,
  "metadata": {
    "colab": {
      "provenance": [],
      "authorship_tag": "ABX9TyPfU2+rZ5RTwCp21YBpgUJt",
      "include_colab_link": true
    },
    "kernelspec": {
      "name": "python3",
      "display_name": "Python 3"
    },
    "language_info": {
      "name": "python"
    }
  },
  "cells": [
    {
      "cell_type": "markdown",
      "metadata": {
        "id": "view-in-github",
        "colab_type": "text"
      },
      "source": [
        "<a href=\"https://colab.research.google.com/github/MocT117/Another-one-/blob/master/CantidadEntregada.ipynb\" target=\"_parent\"><img src=\"https://colab.research.google.com/assets/colab-badge.svg\" alt=\"Open In Colab\"/></a>"
      ]
    },
    {
      "cell_type": "code",
      "execution_count": null,
      "metadata": {
        "id": "L2iV0ybWBcrk"
      },
      "outputs": [],
      "source": [
        "if \"EXW KAG\" in dataframes:\n",
        "    df_exw_kag = dataframes[\"EXW KAG\"]\n",
        "    # Asegura la key (ya debes haberla creado antes en ambos DataFrames)\n",
        "    df_base_limpio['Key SO'] = df_base_limpio['Key SO'].astype(str).str.strip()\n",
        "    if 'Key EXW' in df_exw_kag.columns:\n",
        "        df_exw_kag['Key EXW'] = df_exw_kag['Key EXW'].astype(str).str.strip()\n",
        "    else:\n",
        "        df_exw_kag['Document'] = df_exw_kag['Document'].astype(str).str.strip()\n",
        "        df_exw_kag['Material'] = df_exw_kag['Material'].astype(str).str.strip()\n",
        "        df_exw_kag['Key EXW'] = df_exw_kag['Document'] + df_exw_kag['Material']\n",
        "\n",
        "    # Nombre de la columna a traer, ajústalo si el nombre es diferente en tu archivo\n",
        "    col_cantidad_entregada = 'Cantidad entregada'  # Cambia si tiene otro nombre exacto\n",
        "\n",
        "    print(\"Columnas en EXW KAG:\", df_exw_kag.columns.tolist())\n",
        "\n",
        "    if col_cantidad_entregada in df_exw_kag.columns:\n",
        "        df_exw_kag = df_exw_kag[['Key EXW', col_cantidad_entregada]].drop_duplicates(subset=['Key EXW'])\n",
        "        df_base_limpio = df_base_limpio.merge(\n",
        "            df_exw_kag,\n",
        "            how='left',\n",
        "            left_on='Key SO',\n",
        "            right_on='Key EXW'\n",
        "        )\n",
        "        df_base_limpio['Cantidad entregada'] = df_base_limpio[col_cantidad_entregada].fillna(0)\n",
        "        df_base_limpio = df_base_limpio.drop(columns=['Key EXW', col_cantidad_entregada])\n",
        "        print(\"Columna 'Cantidad entregada' agregada correctamente.\")\n",
        "    else:\n",
        "        print(f\"No se encontró la columna '{col_cantidad_entregada}' en el archivo EXW KAG.\")\n",
        "else:\n",
        "    print(\"No se encontró el archivo EXW KAG en los archivos cargados. No se puede traer Cantidad entregada.\")\n",
        "\n",
        "# Verifica el resultado\n",
        "print(df_base_limpio[['Key SO', 'Cantidad entregada']].head(10))\n"
      ]
    }
  ]
}