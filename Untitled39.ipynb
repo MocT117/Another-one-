{
  "nbformat": 4,
  "nbformat_minor": 0,
  "metadata": {
    "colab": {
      "provenance": [],
      "authorship_tag": "ABX9TyNipdZeR9yK4P1E3u6ZMDQR",
      "include_colab_link": true
    },
    "kernelspec": {
      "name": "python3",
      "display_name": "Python 3"
    },
    "language_info": {
      "name": "python"
    }
  },
  "cells": [
    {
      "cell_type": "markdown",
      "metadata": {
        "id": "view-in-github",
        "colab_type": "text"
      },
      "source": [
        "<a href=\"https://colab.research.google.com/github/MocT117/Another-one-/blob/master/Untitled39.ipynb\" target=\"_parent\"><img src=\"https://colab.research.google.com/assets/colab-badge.svg\" alt=\"Open In Colab\"/></a>"
      ]
    },
    {
      "cell_type": "code",
      "execution_count": null,
      "metadata": {
        "id": "-A5dhMxNrjPp"
      },
      "outputs": [],
      "source": [
        "import plotly.graph_objects as go\n",
        "\n",
        "# Fechas y diferencia E2E\n",
        "df[\"Fecha SO KMEX\"] = pd.to_datetime(df[\"Fecha SO KMEX\"], errors=\"coerce\")\n",
        "df[\"Fecha remision\"] = pd.to_datetime(df[\"Fecha remision\"], errors=\"coerce\")\n",
        "df[\"dias_entrega\"] = (df[\"Fecha remision\"] - df[\"Fecha SO KMEX\"]).dt.days\n",
        "\n",
        "# Filtrar datos válidos y solo SPS/OH\n",
        "df_clasif = df[\n",
        "    df[\"Fecha SO KMEX\"].notna() &\n",
        "    df[\"Fecha remision\"].notna() &\n",
        "    df[\"Clasificación\"].isin([\"SPS\", \"OH\"]) &\n",
        "    (df[\"dias_entrega\"] >= 0)\n",
        "].copy()\n",
        "\n",
        "# Agrupar por mes y clasificación\n",
        "df_clasif[\"Mes\"] = df_clasif[\"Fecha SO KMEX\"].dt.to_period(\"M\").astype(str)\n",
        "promedios_por_clasif = (\n",
        "    df_clasif.groupby([\"Mes\", \"Clasificación\"])[\"dias_entrega\"]\n",
        "    .mean()\n",
        "    .round(1)\n",
        "    .reset_index()\n",
        ")\n",
        "\n",
        "# Pivot solo con SPS y OH\n",
        "pivot = promedios_por_clasif.pivot(index=\"Mes\", columns=\"Clasificación\", values=\"dias_entrega\").sort_index()\n",
        "\n",
        "# === Gráfica Plotly ===\n",
        "fig_clasif = go.Figure()\n",
        "\n",
        "for clasif in [\"SPS\", \"OH\"]:\n",
        "    if clasif in pivot.columns:\n",
        "        fig_clasif.add_trace(go.Scatter(\n",
        "            x=pivot.index,\n",
        "            y=pivot[clasif],\n",
        "            mode=\"lines+markers+text\",\n",
        "            name=clasif,\n",
        "            text=pivot[clasif].apply(lambda x: f\"{x:.1f}\"),\n",
        "            textposition=\"top center\",\n",
        "            textfont=dict(size=11, color=\"#FFFFFF\"),\n",
        "            marker=dict(size=7)\n",
        "        ))\n",
        "\n",
        "# Línea límite\n",
        "limite = 60\n",
        "fig_clasif.add_hline(\n",
        "    y=limite,\n",
        "    line_dash=\"dash\",\n",
        "    line_color=\"white\",\n",
        "    annotation_text=f\"Límite {limite} días\",\n",
        "    annotation_position=\"top left\",\n",
        "    annotation_font_color=\"white\"\n",
        ")\n",
        "\n",
        "# Layout estético\n",
        "fig_clasif.update_layout(\n",
        "    title=\"📊 Tendencia Mensual por Clasificación (Solo SPS y OH)\",\n",
        "    xaxis_title=\"Mes\",\n",
        "    yaxis_title=\"Días promedio\",\n",
        "    hovermode=\"x unified\",\n",
        "    margin=dict(l=40, r=20, t=60, b=40),\n",
        "    plot_bgcolor=\"rgba(0,0,0,0)\",\n",
        "    paper_bgcolor=\"rgba(0,0,0,0)\",\n",
        "    font=dict(color=\"white\")\n",
        ")\n",
        "\n",
        "st.subheader(\"📈 Tendencia mensual End-to-End: Solo SPS y OH\")\n",
        "st.plotly_chart(fig_clasif, use_container_width=True)\n"
      ]
    }
  ]
}