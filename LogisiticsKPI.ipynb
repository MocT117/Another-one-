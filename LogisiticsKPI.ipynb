{
  "nbformat": 4,
  "nbformat_minor": 0,
  "metadata": {
    "colab": {
      "provenance": [],
      "authorship_tag": "ABX9TyOc4DaflJZWg78yuiHxDLId",
      "include_colab_link": true
    },
    "kernelspec": {
      "name": "python3",
      "display_name": "Python 3"
    },
    "language_info": {
      "name": "python"
    }
  },
  "cells": [
    {
      "cell_type": "markdown",
      "metadata": {
        "id": "view-in-github",
        "colab_type": "text"
      },
      "source": [
        "<a href=\"https://colab.research.google.com/github/MocT117/Another-one-/blob/master/LogisiticsKPI.ipynb\" target=\"_parent\"><img src=\"https://colab.research.google.com/assets/colab-badge.svg\" alt=\"Open In Colab\"/></a>"
      ]
    },
    {
      "cell_type": "code",
      "execution_count": null,
      "metadata": {
        "id": "z33w-ZUiL5nF"
      },
      "outputs": [],
      "source": [
        "import streamlit as st\n",
        "import pandas as pd\n",
        "import numpy as np\n",
        "import plotly.graph_objects as go\n",
        "\n",
        "st.set_page_config(page_title=\"Semáforo Aduana\", page_icon=\":bar_chart:\", layout=\"centered\")\n",
        "\n",
        "st.title(\"Dashboard Semáforo Aduana\")\n",
        "st.write(\"Carga tu archivo Excel para comparar EXW Real vs Fecha entrada Aduana:\")\n",
        "\n",
        "archivo = st.file_uploader(\"Sube tu archivo Excel\", type=[\"xlsx\"])\n",
        "\n",
        "if archivo:\n",
        "    df = pd.read_excel(archivo)\n",
        "\n",
        "    # Convertir a fechas\n",
        "    df['EXW Real'] = pd.to_datetime(df['EXW Real'], errors='coerce')\n",
        "    df['Fecha entrada Aduana'] = pd.to_datetime(df['Fecha entrada Aduana'], errors='coerce')\n",
        "\n",
        "    # Filtrar filas válidas (con ambas fechas)\n",
        "    df_validas = df[df['EXW Real'].notna() & df['Fecha entrada Aduana'].notna()].copy()\n",
        "\n",
        "    # Calcular diferencia en días hábiles\n",
        "    df_validas['Diferencia días hábiles'] = df_validas.apply(\n",
        "        lambda x: np.busday_count(\n",
        "            x['EXW Real'].date(),\n",
        "            x['Fecha entrada Aduana'].date()\n",
        "            ) if pd.notna(x['EXW Real']) and pd.notna(x['Fecha entrada Aduana']) else np.nan,\n",
        "        axis=1\n",
        "        )\n",
        "\n",
        "    # Semáforo nuevo: On time <= 8 días hábiles\n",
        "    def status_semáforo(dias):\n",
        "        if pd.isna(dias):\n",
        "            return 'Sin fecha'\n",
        "        elif dias <= 8:\n",
        "            return 'On time'\n",
        "        elif dias > 8:\n",
        "            return 'Delay'\n",
        "        else:\n",
        "            return 'Revisar'\n",
        "    df_validas['Semáforo'] = df_validas['Diferencia días hábiles'].apply(status_semáforo)\n",
        "\n",
        "    num_filas = len(df_validas)\n",
        "\n",
        "    # Mostrar tabla\n",
        "    st.subheader(\"Tabla EXW Real vs Fecha entrada Aduana\")\n",
        "    st.dataframe(df_validas[['EXW Real', 'Fecha entrada Aduana', 'Diferencia días hábiles', 'Semáforo']])\n",
        "\n",
        "    # Gauge chart (opcional)\n",
        "    st.subheader(\"Diferencia EXW Real vs Fecha entrada Aduana (días hábiles)\")\n",
        "\n",
        "    if not df_validas['Diferencia días hábiles'].dropna().empty:\n",
        "        promedio_dias = df_validas['Diferencia días hábiles'].mean()\n",
        "    else:\n",
        "        promedio_dias = 0\n",
        "\n",
        "    minimo = 0\n",
        "    maximo = max(18, int((df_validas['Diferencia días hábiles'].max() // 4 + 1) * 4))\n",
        "\n",
        "    tick_vals = list(range(minimo, maximo+1, 4))\n",
        "\n",
        "    fig = go.Figure(go.Indicator(\n",
        "        mode = \"gauge+number\",\n",
        "        value = promedio_dias,\n",
        "        number = {'suffix': \" días hábiles\", 'font': {'size': 36}},\n",
        "        title = {'text': \"EXW Real vs Fecha entrada Aduana\"},\n",
        "        gauge = {\n",
        "            'axis': {'range': [minimo, maximo], 'tickmode': 'array', 'tickvals': tick_vals, 'tickfont': {'size': 16}},\n",
        "            'steps': [\n",
        "                {'range': [minimo, 8], 'color': \"#ABEBC6\"},       # Verde <= 8 días hábiles\n",
        "                {'range': [8, maximo], 'color': \"#F5B7B1\"}        # Rojo > 8 días hábiles\n",
        "            ],\n",
        "            'bar': {'color': \"black\", 'thickness': 0.25}\n",
        "            }\n",
        "        ))\n",
        "\n",
        "    st.plotly_chart(fig)\n",
        "    st.markdown(\n",
        "        f\"Promedio considerando {num_filas} diferencias\",\n",
        "        unsafe_allow_html=True\n",
        "        )\n",
        "\n",
        "    st.info(\"Dashboard generado por Kai 🤖\")\n",
        "\n",
        "else:\n",
        "    st.warning(\"Sube un archivo para ver el dashboard.\")"
      ]
    }
  ]
}