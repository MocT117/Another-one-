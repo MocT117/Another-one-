{
  "nbformat": 4,
  "nbformat_minor": 0,
  "metadata": {
    "colab": {
      "provenance": [],
      "authorship_tag": "ABX9TyP8BvZKpmZ8b6nbtR9lpXJW",
      "include_colab_link": true
    },
    "kernelspec": {
      "name": "python3",
      "display_name": "Python 3"
    },
    "language_info": {
      "name": "python"
    }
  },
  "cells": [
    {
      "cell_type": "markdown",
      "metadata": {
        "id": "view-in-github",
        "colab_type": "text"
      },
      "source": [
        "<a href=\"https://colab.research.google.com/github/MocT117/Another-one-/blob/master/Aereo.ipynb\" target=\"_parent\"><img src=\"https://colab.research.google.com/assets/colab-badge.svg\" alt=\"Open In Colab\"/></a>"
      ]
    },
    {
      "cell_type": "code",
      "execution_count": null,
      "metadata": {
        "id": "xm_W_R80Sd-l"
      },
      "outputs": [],
      "source": [
        "# Primero, verifica que tienes la hoja cargada\n",
        "if \"Aéreos\" in dataframes:\n",
        "    df_aereos = dataframes[\"Aéreos\"]\n",
        "\n",
        "    # Limpia los campos clave\n",
        "    df_base_limpio['Delivery Note'] = df_base_limpio['Delivery Note'].astype(str).str.strip()\n",
        "    df_aereos['DN'] = df_aereos['DN'].astype(str).str.strip()\n",
        "\n",
        "    # 1. Trae \"Guía\" como \"Aéreo\"\n",
        "    col_aereo = \"Guía\"\n",
        "    if col_aereo in df_aereos.columns:\n",
        "        df_base_limpio = df_base_limpio.merge(\n",
        "            df_aereos[['DN', col_aereo]].drop_duplicates(subset=['DN']),\n",
        "            how='left',\n",
        "            left_on='Delivery Note',\n",
        "            right_on='DN'\n",
        "        )\n",
        "        df_base_limpio['Aéreo'] = df_base_limpio[col_aereo].fillna('')\n",
        "        df_base_limpio = df_base_limpio.drop(columns=['DN', col_aereo])\n",
        "    else:\n",
        "        print(f\"No se encontró la columna '{col_aereo}' en la hoja Aéreos.\")\n",
        "\n",
        "    # 2. Trae \"Fecha pago pedimento\" como \"Fecha pago pedimento aéreo\"\n",
        "    col_fecha_pago_aereo = \"Fecha pago pedimento\"\n",
        "    if col_fecha_pago_aereo in df_aereos.columns:\n",
        "        df_base_limpio = df_base_limpio.merge(\n",
        "            df_aereos[['DN', col_fecha_pago_aereo]].drop_duplicates(subset=['DN']),\n",
        "            how='left',\n",
        "            left_on='Delivery Note',\n",
        "            right_on='DN'\n",
        "        )\n",
        "        df_base_limpio['Fecha pago pedimento aéreo'] = df_base_limpio[col_fecha_pago_aereo].fillna('')\n",
        "        df_base_limpio = df_base_limpio.drop(columns=['DN', col_fecha_pago_aereo])\n",
        "    else:\n",
        "        print(f\"No se encontró la columna '{col_fecha_pago_aereo}' en la hoja Aéreos.\")\n",
        "\n",
        "    print(\"Columnas Aéreo y Fecha pago pedimento aéreo agregadas correctamente.\")\n",
        "else:\n",
        "    print(\"No se encontró la hoja 'Aéreos' en los archivos cargados.\")\n",
        "\n",
        "# Verifica el resultado\n",
        "print(df_base_limpio[['Delivery Note', 'Aéreo', 'Fecha pago pedimento aéreo']].head(10))\n"
      ]
    }
  ]
}