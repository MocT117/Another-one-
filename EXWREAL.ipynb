{
  "nbformat": 4,
  "nbformat_minor": 0,
  "metadata": {
    "colab": {
      "provenance": [],
      "authorship_tag": "ABX9TyNRyWJGllBgDFeWeD005g+f",
      "include_colab_link": true
    },
    "kernelspec": {
      "name": "python3",
      "display_name": "Python 3"
    },
    "language_info": {
      "name": "python"
    }
  },
  "cells": [
    {
      "cell_type": "markdown",
      "metadata": {
        "id": "view-in-github",
        "colab_type": "text"
      },
      "source": [
        "<a href=\"https://colab.research.google.com/github/MocT117/Another-one-/blob/master/EXWREAL.ipynb\" target=\"_parent\"><img src=\"https://colab.research.google.com/assets/colab-badge.svg\" alt=\"Open In Colab\"/></a>"
      ]
    },
    {
      "cell_type": "code",
      "execution_count": null,
      "metadata": {
        "id": "JuAt0CQB984a"
      },
      "outputs": [],
      "source": [
        "if \"EXW KAG\" in dataframes:\n",
        "    df_exw_kag = dataframes[\"EXW KAG\"]\n",
        "    # Asegura que la key esté limpia\n",
        "    df_base_limpio['Key SO'] = df_base_limpio['Key SO'].astype(str).str.strip()\n",
        "    if 'Key EXW' in df_exw_kag.columns:\n",
        "        df_exw_kag['Key EXW'] = df_exw_kag['Key EXW'].astype(str).str.strip()\n",
        "    else:\n",
        "        # Si no existe 'Key EXW', la creamos concatenando Document y Material o lo que corresponda\n",
        "        df_exw_kag['Document'] = df_exw_kag['Document'].astype(str).str.strip()\n",
        "        df_exw_kag['Material'] = df_exw_kag['Material'].astype(str).str.strip()\n",
        "        df_exw_kag['Key EXW'] = df_exw_kag['Document'] + df_exw_kag['Material']\n",
        "\n",
        "    # Verifica el nombre real de la columna que necesitas (la 17, puede ser 'EXW REAL' o diferente)\n",
        "    print(\"Columnas en EXW KAG:\", df_exw_kag.columns.tolist())\n",
        "\n",
        "    col_exw_real = 'EXW REAL'  # Cambia el nombre si es diferente en tu archivo\n",
        "\n",
        "    if col_exw_real in df_exw_kag.columns:\n",
        "        # Trae la columna EXW REAL a tu base usando la key\n",
        "        df_exw_kag = df_exw_kag[['Key EXW', col_exw_real]].drop_duplicates(subset=['Key EXW'])\n",
        "        df_base_limpio = df_base_limpio.merge(\n",
        "            df_exw_kag,\n",
        "            how='left',\n",
        "            left_on='Key SO',\n",
        "            right_on='Key EXW'\n",
        "        )\n",
        "        df_base_limpio['EXW REAL'] = df_base_limpio[col_exw_real].fillna('')\n",
        "        df_base_limpio = df_base_limpio.drop(columns=['Key EXW', col_exw_real])\n",
        "        print(\"Columna EXW REAL agregada correctamente.\")\n",
        "    else:\n",
        "        print(f\"No se encontró la columna '{col_exw_real}' en el archivo EXW KAG.\")\n",
        "else:\n",
        "    print(\"No se encontró el archivo EXW KAG en los archivos cargados. No se puede traer EXW REAL.\")\n",
        "\n",
        "# Verifica el resultado\n",
        "print(df_base_limpio[['Key SO', 'EXW REAL']].head(10))\n"
      ]
    }
  ]
}