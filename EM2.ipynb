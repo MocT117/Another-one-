{
  "nbformat": 4,
  "nbformat_minor": 0,
  "metadata": {
    "colab": {
      "provenance": [],
      "authorship_tag": "ABX9TyN60SQgTPJ3fbI/ouSkzt2T",
      "include_colab_link": true
    },
    "kernelspec": {
      "name": "python3",
      "display_name": "Python 3"
    },
    "language_info": {
      "name": "python"
    }
  },
  "cells": [
    {
      "cell_type": "markdown",
      "metadata": {
        "id": "view-in-github",
        "colab_type": "text"
      },
      "source": [
        "<a href=\"https://colab.research.google.com/github/MocT117/Another-one-/blob/master/EM2.ipynb\" target=\"_parent\"><img src=\"https://colab.research.google.com/assets/colab-badge.svg\" alt=\"Open In Colab\"/></a>"
      ]
    },
    {
      "cell_type": "code",
      "execution_count": null,
      "metadata": {
        "id": "rf-W2BLUbrqg"
      },
      "outputs": [],
      "source": [
        "if \"101EM\" in dataframes:\n",
        "    df_101em = dataframes[\"101EM\"]\n",
        "\n",
        "    # Si no lo has hecho ya, arma la Key101 en ambos DataFrames:\n",
        "    df_101em['Pedido de cliente'] = df_101em['Pedido de cliente'].fillna('').astype(str).str.strip()\n",
        "    df_101em['Posición'] = df_101em['Posición'].fillna('').astype(str).str.strip()\n",
        "    df_101em['Key101'] = df_101em['Pedido de cliente'] + df_101em['Posición']\n",
        "\n",
        "    df_base_limpio['Pedido de cliente'] = df_base_limpio['Pedido de cliente'].fillna('').astype(str).str.strip()\n",
        "    df_base_limpio['Posición'] = df_base_limpio['Posición'].fillna('').astype(str).str.strip()\n",
        "    df_base_limpio['Key101'] = df_base_limpio['Pedido de cliente'] + df_base_limpio['Posición']\n",
        "\n",
        "    # Ahora traemos la columna 'Cantidad' y la nombramos 'Cantidad EM'\n",
        "    col_cantidad = 'Cantidad'\n",
        "\n",
        "    if col_cantidad in df_101em.columns:\n",
        "        df_101em_cant = df_101em[['Key101', col_cantidad]].drop_duplicates(subset=['Key101'])\n",
        "        df_base_limpio = df_base_limpio.merge(\n",
        "            df_101em_cant,\n",
        "            how='left',\n",
        "            left_on='Key101',\n",
        "            right_on='Key101'\n",
        "        )\n",
        "        df_base_limpio['Cantidad EM'] = df_base_limpio[col_cantidad].fillna('')\n",
        "        df_base_limpio = df_base_limpio.drop(columns=[col_cantidad])\n",
        "        print(\"Columna 'Cantidad EM' agregada correctamente.\")\n",
        "    else:\n",
        "        print(f\"No se encontró la columna '{col_cantidad}' en el archivo 101EM.\")\n",
        "else:\n",
        "    print(\"No se encontró el archivo 101EM en los archivos cargados.\")\n",
        "\n",
        "print(df_base_limpio[['Key101', 'Cantidad EM']].head(10))"
      ]
    }
  ]
}