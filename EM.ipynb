{
  "nbformat": 4,
  "nbformat_minor": 0,
  "metadata": {
    "colab": {
      "provenance": [],
      "authorship_tag": "ABX9TyNZKnljWl0RlLMygxKJ0Xhe",
      "include_colab_link": true
    },
    "kernelspec": {
      "name": "python3",
      "display_name": "Python 3"
    },
    "language_info": {
      "name": "python"
    }
  },
  "cells": [
    {
      "cell_type": "markdown",
      "metadata": {
        "id": "view-in-github",
        "colab_type": "text"
      },
      "source": [
        "<a href=\"https://colab.research.google.com/github/MocT117/Another-one-/blob/master/EM.ipynb\" target=\"_parent\"><img src=\"https://colab.research.google.com/assets/colab-badge.svg\" alt=\"Open In Colab\"/></a>"
      ]
    },
    {
      "cell_type": "code",
      "execution_count": null,
      "metadata": {
        "id": "4oujOXWlaNu-"
      },
      "outputs": [],
      "source": [
        "if \"101EM\" in dataframes:\n",
        "    df_101em = dataframes[\"101EM\"]\n",
        "\n",
        "    # --- Crear Key101 en 101EM ---\n",
        "    df_101em['Pedido de cliente'] = df_101em['Pedido de cliente'].fillna('').astype(str).str.strip()\n",
        "    df_101em['Posición'] = df_101em['Posición'].fillna('').astype(str).str.strip()\n",
        "    df_101em['Key101'] = df_101em['Pedido de cliente'] + df_101em['Posición']\n",
        "\n",
        "    # --- Crear Key101 en base (ajusta si tus nombres de columnas son distintos) ---\n",
        "    df_base_limpio['Pedido de cliente'] = df_base_limpio['Pedido de cliente'].fillna('').astype(str).str.strip()\n",
        "    df_base_limpio['Posición'] = df_base_limpio['Posición'].fillna('').astype(str).str.strip()\n",
        "    df_base_limpio['Key101'] = df_base_limpio['Pedido de cliente'] + df_base_limpio['Posición']\n",
        "\n",
        "    # --- Trae la columna Fe.contabilización ---\n",
        "    col_fecha_em = 'Fe.contabilización'  # Cambia si el nombre es diferente en tu archivo\n",
        "\n",
        "    if col_fecha_em in df_101em.columns:\n",
        "        df_101em = df_101em[['Key101', col_fecha_em]].drop_duplicates(subset=['Key101'])\n",
        "        df_base_limpio = df_base_limpio.merge(\n",
        "            df_101em,\n",
        "            how='left',\n",
        "            left_on='Key101',\n",
        "            right_on='Key101'\n",
        "        )\n",
        "        df_base_limpio['Fecha EM'] = df_base_limpio[col_fecha_em].fillna('')\n",
        "        df_base_limpio = df_base_limpio.drop(columns=[col_fecha_em])\n",
        "        print(\"Columna 'Fecha EM' agregada correctamente.\")\n",
        "    else:\n",
        "        print(f\"No se encontró la columna '{col_fecha_em}' en el archivo 101EM.\")\n",
        "else:\n",
        "    print(\"No se encontró el archivo 101EM en los archivos cargados.\")\n",
        "\n",
        "# Muestra un preview para validar\n",
        "print(df_base_limpio[['Key101', 'Fecha EM']].head(10))"
      ]
    }
  ]
}