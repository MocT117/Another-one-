{
  "nbformat": 4,
  "nbformat_minor": 0,
  "metadata": {
    "colab": {
      "provenance": [],
      "authorship_tag": "ABX9TyO2oFDEF/t+Z0ZgZhnmG5GB",
      "include_colab_link": true
    },
    "kernelspec": {
      "name": "python3",
      "display_name": "Python 3"
    },
    "language_info": {
      "name": "python"
    }
  },
  "cells": [
    {
      "cell_type": "markdown",
      "metadata": {
        "id": "view-in-github",
        "colab_type": "text"
      },
      "source": [
        "<a href=\"https://colab.research.google.com/github/MocT117/Another-one-/blob/master/Untitled31.ipynb\" target=\"_parent\"><img src=\"https://colab.research.google.com/assets/colab-badge.svg\" alt=\"Open In Colab\"/></a>"
      ]
    },
    {
      "cell_type": "code",
      "execution_count": null,
      "metadata": {
        "id": "FfCfIvazLFrC"
      },
      "outputs": [],
      "source": [
        "import pandas as pd\n",
        "\n",
        "# Load the Excel file into a DataFrame\n",
        "# Replace 'your_file.xlsx' with the actual name of your file\n",
        "try:\n",
        "    df = pd.read_excel('your_file.xlsx')\n",
        "except FileNotFoundError:\n",
        "    print(\"Error: The file 'your_file.xlsx' was not found.\")\n",
        "    exit()\n",
        "\n",
        "# Filter the DataFrame for rows where the 'FRACCIÓN ARANCELARIA' has 4 digits\n",
        "# We'll treat the column as a string to count the digits, ignoring non-numeric characters.\n",
        "filtered_df = df[df['FRACCIÓN ARANCELARIA'].astype(str).str.replace(r'\\D', '', regex=True).str.len() == 4]\n",
        "\n",
        "# Select only the 'FRACCIÓN ARANCELARIA' and 'DESCRIPCIÓN' columns\n",
        "result_df = filtered_df[['FRACCIÓN ARANCELARIA', 'DESCRIPCIÓN']]\n",
        "\n",
        "# Save the filtered data to a new Excel file\n",
        "result_df.to_excel('filtered_output.xlsx', index=False)\n",
        "\n",
        "print(\"The filtered data has been saved to 'filtered_output.xlsx'.\")"
      ]
    }
  ]
}