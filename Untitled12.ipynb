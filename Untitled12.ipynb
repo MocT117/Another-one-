{
  "nbformat": 4,
  "nbformat_minor": 0,
  "metadata": {
    "colab": {
      "provenance": [],
      "authorship_tag": "ABX9TyM1/w5Iq34QyCQzdPwQG+Vl",
      "include_colab_link": true
    },
    "kernelspec": {
      "name": "python3",
      "display_name": "Python 3"
    },
    "language_info": {
      "name": "python"
    }
  },
  "cells": [
    {
      "cell_type": "markdown",
      "metadata": {
        "id": "view-in-github",
        "colab_type": "text"
      },
      "source": [
        "<a href=\"https://colab.research.google.com/github/MocT117/Another-one-/blob/master/Untitled12.ipynb\" target=\"_parent\"><img src=\"https://colab.research.google.com/assets/colab-badge.svg\" alt=\"Open In Colab\"/></a>"
      ]
    },
    {
      "cell_type": "code",
      "execution_count": null,
      "metadata": {
        "id": "Wd-v0inMRYNe"
      },
      "outputs": [],
      "source": [
        "import re\n",
        "from datetime import datetime\n",
        "\n",
        "def extraer_fechas_mad(texto):\n",
        "    \"\"\"\n",
        "        Extrae fechas asociadas a 'MAD' o 'NEW MAD' desde un texto y las normaliza a formato YYYY-MM-DD.\n",
        "\n",
        "            Parámetros:\n",
        "                    texto (str): Texto desordenado donde puede haber fechas MAD.\n",
        "\n",
        "                        Retorna:\n",
        "                                List[str]: Lista de fechas MAD detectadas en formato YYYY-MM-DD.\n",
        "                                    \"\"\"\n",
        "                                        if not isinstance(texto, str):\n",
        "                                                return []\n",
        "\n",
        "                                                    # Regex para detectar fechas tipo MAD dd.mm.yy, dd/mm, dd.mm, etc.\n",
        "                                                        patron = r'(?:MAD|NEW MAD)[:\\s]*([0-9]{1,2}[./][0-9]{1,2}(?:[./][0-9]{2,4})?)'\n",
        "                                                            matches = re.findall(patron, texto, flags=re.IGNORECASE)\n",
        "\n",
        "                                                                fechas_limpias = []\n",
        "                                                                    for fecha in matches:\n",
        "                                                                            try:\n",
        "                                                                                        # Normalizar separador\n",
        "                                                                                                    fecha = fecha.replace('/', '.')\n",
        "                                                                                                                partes = fecha.split('.')\n",
        "\n",
        "                                                                                                                                        # Si no tiene año, lo asumimos como 2025\n",
        "                                                                                                                                                    if len(partes) == 2:\n",
        "                                                                                                                                                                    dia, mes = partes\n",
        "                                                                                                                                                                                    año = '2025'\n",
        "                                                                                                                                                                                                elif len(partes) == 3:\n",
        "                                                                                                                                                                                                                dia, mes, año = partes\n",
        "                                                                                                                                                                                                                                if len(año) == 2:\n",
        "                                                                                                                                                                                                                                                    año = '20' + año  # Ej: 25 → 2025\n",
        "                                                                                                                                                                                                                                                                else:\n",
        "                                                                                                                                                                                                                                                                                continue  # No válido\n",
        "\n",
        "                                                                                                                                                                                                                                                                                            # Crear fecha en formato YYYY-MM-DD\n",
        "                                                                                                                                                                                                                                                                                                        fecha_formateada = datetime(int(año), int(mes), int(dia)).strftime('%Y-%m-%d')\n",
        "                                                                                                                                                                                                                                                                                                                    fechas_limpias.append(fecha_formateada)\n",
        "\n",
        "                                                                                                                                                                                                                                                                                                                            except Exception as e:\n",
        "                                                                                                                                                                                                                                                                                                                                        print(f\"⚠️ Error al convertir '{fecha}' → {e}\")\n",
        "                                                                                                                                                                                                                                                                                                                                                    continue\n",
        "\n",
        "                                                                                                                                                                                                                                                                                                                                                        return fechas_limpias\n",
        ""
      ]
    }
  ]
}