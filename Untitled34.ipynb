{
  "nbformat": 4,
  "nbformat_minor": 0,
  "metadata": {
    "colab": {
      "provenance": [],
      "authorship_tag": "ABX9TyOr8YlH7/szAeJJ3ii2TwdK",
      "include_colab_link": true
    },
    "kernelspec": {
      "name": "python3",
      "display_name": "Python 3"
    },
    "language_info": {
      "name": "python"
    }
  },
  "cells": [
    {
      "cell_type": "markdown",
      "metadata": {
        "id": "view-in-github",
        "colab_type": "text"
      },
      "source": [
        "<a href=\"https://colab.research.google.com/github/MocT117/Another-one-/blob/master/Untitled34.ipynb\" target=\"_parent\"><img src=\"https://colab.research.google.com/assets/colab-badge.svg\" alt=\"Open In Colab\"/></a>"
      ]
    },
    {
      "cell_type": "code",
      "execution_count": null,
      "metadata": {
        "id": "KyJw1-08WrD0"
      },
      "outputs": [],
      "source": [
        "import pandas as pd\n",
        "import re\n",
        "\n",
        "# --- Ruta del archivo ---\n",
        "INPUT_PATH = r\"/mnt/data/TIGIE.XLSX\"\n",
        "\n",
        "# --- Función para procesar la hoja ---\n",
        "def process_sheet(sheet_name):\n",
        "    raw = pd.read_excel(INPUT_PATH, sheet_name=sheet_name, header=None, dtype=object)\n",
        "\n",
        "    # Detectar la fila de cabecera\n",
        "    header_row = None\n",
        "    for i in range(min(len(raw), 120)):\n",
        "        row = raw.iloc[i].astype(str).tolist()\n",
        "        lower = [s.lower() for s in row]\n",
        "        if any(\"fracción\" in s or \"fraccion\" in s for s in lower) and \\\n",
        "           any(\"descripción\" in s or \"descripcion\" in s for s in lower):\n",
        "            header_row = i\n",
        "            break\n",
        "    if header_row is None:\n",
        "        header_row = 4  # Valor por defecto si no se encuentra\n",
        "\n",
        "    header = raw.iloc[header_row].tolist()\n",
        "    df = raw.iloc[header_row+1:].copy()\n",
        "    df.columns = header\n",
        "    df = df.reset_index(drop=True)\n",
        "    return df\n",
        "\n",
        "# --- Cargar la hoja \"TIGIE + NICO\" ---\n",
        "df = process_sheet('TIGIE + NICO')\n",
        "\n",
        "# --- Filtrar solo fracciones en formato xx.xx ---\n",
        "def normalizar_fraccion(val):\n",
        "    if pd.isna(val):\n",
        "        return None\n",
        "    val = str(val).strip()\n",
        "    if re.fullmatch(r\"\\d{2}\\.\\d{2}\", val):\n",
        "        return val\n",
        "    return None\n",
        "\n",
        "df[\"Fracción Arancelaria\"] = df[\"FRACCIÓN ARANCELARIA\"].apply(normalizar_fraccion)\n",
        "df_filtrado = df[df[\"Fracción Arancelaria\"].notna()][[\"Fracción Arancelaria\", \"DESCRIPCIÓN\"]]\n",
        "\n",
        "# --- Guardar el resultado ---\n",
        "OUTPUT_PATH = \"/mnt/data/fracciones_4digitos_filtradas.xlsx\"\n",
        "df_filtrado.to_excel(OUTPUT_PATH, index=False)\n",
        "\n",
        "print(f\"Archivo generado: {OUTPUT_PATH}\")"
      ]
    }
  ]
}