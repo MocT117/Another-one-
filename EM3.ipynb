{
  "nbformat": 4,
  "nbformat_minor": 0,
  "metadata": {
    "colab": {
      "provenance": [],
      "authorship_tag": "ABX9TyOw8SI2fse8gURlfzs15eF/",
      "include_colab_link": true
    },
    "kernelspec": {
      "name": "python3",
      "display_name": "Python 3"
    },
    "language_info": {
      "name": "python"
    }
  },
  "cells": [
    {
      "cell_type": "markdown",
      "metadata": {
        "id": "view-in-github",
        "colab_type": "text"
      },
      "source": [
        "<a href=\"https://colab.research.google.com/github/MocT117/Another-one-/blob/master/EM3.ipynb\" target=\"_parent\"><img src=\"https://colab.research.google.com/assets/colab-badge.svg\" alt=\"Open In Colab\"/></a>"
      ]
    },
    {
      "cell_type": "code",
      "execution_count": null,
      "metadata": {
        "id": "ecVPoNmUf-sV"
      },
      "outputs": [],
      "source": [
        "if \"101EM\" in dataframes:\n",
        "    df_101em = dataframes[\"101EM\"]\n",
        "\n",
        "    # --- Armar el pivote Key101 en ambos DataFrames (solo si no existe) ---\n",
        "    df_101em['Pedido de cliente'] = df_101em['Pedido de cliente'].fillna('').astype(str).str.strip()\n",
        "    df_101em['Posición'] = df_101em['Posición'].fillna('').astype(str).str.strip()\n",
        "    df_101em['Key101'] = df_101em['Pedido de cliente'] + df_101em['Posición']\n",
        "\n",
        "    df_base_limpio['Pedido de cliente'] = df_base_limpio['Pedido de cliente'].fillna('').astype(str).str.strip()\n",
        "    df_base_limpio['Posición'] = df_base_limpio['Posición'].fillna('').astype(str).str.strip()\n",
        "    df_base_limpio['Key101'] = df_base_limpio['Pedido de cliente'] + df_base_limpio['Posición']\n",
        "\n",
        "    # --- Traer ambas columnas en un solo merge ---\n",
        "    cols_traer = ['Key101', 'Fe.contabilización', 'Cantidad']\n",
        "    # Filtra solo las columnas que realmente existen\n",
        "    cols_en_archivo = [col for col in cols_traer if col in df_101em.columns]\n",
        "    if len(cols_en_archivo) == 3:\n",
        "        df_101em_filtrado = df_101em[cols_en_archivo].drop_duplicates(subset=['Key101'])\n",
        "        df_base_limpio = df_base_limpio.merge(\n",
        "            df_101em_filtrado,\n",
        "            how='left',\n",
        "            left_on='Key101',\n",
        "            right_on='Key101'\n",
        "        )\n",
        "        df_base_limpio['Fecha EM'] = df_base_limpio['Fe.contabilización'].fillna('')\n",
        "        df_base_limpio['Cantidad EM'] = df_base_limpio['Cantidad'].fillna('')\n",
        "        df_base_limpio = df_base_limpio.drop(columns=['Fe.contabilización', 'Cantidad'])\n",
        "        print(\"Columnas 'Fecha EM' y 'Cantidad EM' agregadas correctamente.\")\n",
        "    else:\n",
        "        print(f\"No se encontraron todas las columnas necesarias {cols_traer} en el archivo 101EM.\")\n",
        "else:\n",
        "    print(\"No se encontró el archivo 101EM en los archivos cargados.\")\n",
        "\n",
        "print(df_base_limpio[['Key101', 'Fecha EM', 'Cantidad EM']].head(10))"
      ]
    }
  ]
}