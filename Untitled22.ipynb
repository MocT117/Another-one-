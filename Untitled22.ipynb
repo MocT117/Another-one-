{
  "nbformat": 4,
  "nbformat_minor": 0,
  "metadata": {
    "colab": {
      "provenance": [],
      "authorship_tag": "ABX9TyOzhTl8KUStFqguX2YL5pAw",
      "include_colab_link": true
    },
    "kernelspec": {
      "name": "python3",
      "display_name": "Python 3"
    },
    "language_info": {
      "name": "python"
    }
  },
  "cells": [
    {
      "cell_type": "markdown",
      "metadata": {
        "id": "view-in-github",
        "colab_type": "text"
      },
      "source": [
        "<a href=\"https://colab.research.google.com/github/MocT117/Another-one-/blob/master/Untitled22.ipynb\" target=\"_parent\"><img src=\"https://colab.research.google.com/assets/colab-badge.svg\" alt=\"Open In Colab\"/></a>"
      ]
    },
    {
      "cell_type": "code",
      "execution_count": null,
      "metadata": {
        "id": "PubwLlxTxlzV"
      },
      "outputs": [],
      "source": [
        "\n",
        "# -*- coding: utf-8 -*-\n",
        "# Requisitos: pandas, openpyxl\n",
        "# pip install pandas openpyxl\n",
        "\n",
        "import os\n",
        "import re\n",
        "from datetime import datetime\n",
        "import pandas as pd\n",
        "\n",
        "# === 1) Define aquí la ruta del archivo ===\n",
        "# Si tu estructura es: proyecto/raw_data/catalogo_fa.xlsx y este script está en \"proyecto/\",\n",
        "# deja la ruta así:\n",
        "INPUT_PATH = \"raw_data/catalogo_fa.xlsx\"\n",
        "\n",
        "# (Opcional, recomendado) Forzar a que la ruta sea relativa a este .py, por si el IDE cambia el cwd:\n",
        "BASE_DIR = os.path.dirname(os.path.abspath(__file__))\n",
        "INPUT_PATH = os.path.join(BASE_DIR, INPUT_PATH)\n",
        "\n",
        "# === 2) Lee el Excel ===\n",
        "try:\n",
        "    # dtype=object evita que pandas quite ceros a la izquierda\n",
        "    df = pd.read_excel(INPUT_PATH, sheet_name=0, dtype=object)\n",
        "except FileNotFoundError:\n",
        "    raise SystemExit(f\"❌ No se encontró el archivo: {INPUT_PATH}\")\n",
        "except Exception as e:\n",
        "    raise SystemExit(f\"❌ Error leyendo el Excel: {e}\")\n",
        "\n",
        "# === 3) Ubica columnas objetivo de forma robusta ===\n",
        "def norm(s: str) -> str:\n",
        "    import unicodedata\n",
        "    s = \"\".join(c for c in unicodedata.normalize(\"NFD\", str(s).lower())\n",
        "                if unicodedata.category(c) != \"Mn\")\n",
        "    return re.sub(r\"\\s+\", \" \", s).strip()\n",
        "\n",
        "norm_map = {norm(c): c for c in df.columns}\n",
        "\n",
        "# Intentos comunes para \"fracción arancelaria\" y \"descripción\"\n",
        "cand_frac = [\"fraccion arancelaria\", \"fraccion\", \"fa\", \"hs code\", \"hs\", \"partida\", \"tarifa\"]\n",
        "cand_desc = [\"descripcion\", \"description\", \"desc\"]\n",
        "\n",
        "col_frac = next((norm_map[n] for n in norm_map if any(k in n for k in cand_frac)), None)\n",
        "col_desc = next((norm_map[n] for n in norm_map if any(k in n for k in cand_desc)), None)\n",
        "\n",
        "if not col_frac:\n",
        "    raise SystemExit(f\"❌ No encontré la columna de Fracción Arancelaria. Columnas: {list(df.columns)}\")\n",
        "if not col_desc:\n",
        "    raise SystemExit(f\"❌ No encontré la columna de Descripción. Columnas: {list(df.columns)}\")\n",
        "\n",
        "# === 4) Limpia fracción y filtra patrón EXACTO xx.xx ===\n",
        "def limpiar_fa(x) -> str:\n",
        "    s = str(x).strip().strip(\". \")\n",
        "    s = re.sub(r\"\\s+\", \"\", s)\n",
        "    s = \"\".join(ch for ch in s if ch.isdigit() or ch == \".\")\n",
        "    return s\n",
        "\n",
        "tmp = df[[col_frac, col_desc]].copy()\n",
        "tmp[\"__fa__\"] = tmp[col_frac].map(limpiar_fa)\n",
        "mask = tmp[\"__fa__\"].str.fullmatch(r\"\\d{2}\\.\\d{2}\", na=False)\n",
        "\n",
        "resultado = (\n",
        "    tmp.loc[mask, [col_frac, col_desc]]\n",
        "       .rename(columns={col_frac: \"Fracción Arancelaria\", col_desc: \"Descripción\"})\n",
        "       .drop_duplicates()\n",
        "       .reset_index(drop=True)\n",
        ")\n",
        "\n",
        "if resultado.empty:\n",
        "    print(\"⚠️ No se encontraron fracciones en formato xx.xx (ej. 01.01). Revisa el archivo de entrada.\")\n",
        "else:\n",
        "    # === 5) Exporta a Excel ===\n",
        "    out_dir = os.path.join(BASE_DIR, \"output\")\n",
        "    os.makedirs(out_dir, exist_ok=True)\n",
        "    fecha = datetime.now().strftime(\"%Y%m%d\")\n",
        "    out_path = os.path.join(out_dir, f\"fracciones_4digitos_{fecha}.xlsx\")\n",
        "    try:\n",
        "        resultado.to_excel(out_path, index=False)\n",
        "    except Exception as e:\n",
        "        raise SystemExit(f\"❌ Error exportando el Excel: {e}\")\n",
        "\n",
        "    print(f\"✅ Listo. Registros: {len(resultado)}\")\n",
        "    print(f\"📄 Archivo generado: {out_path}\")"
      ]
    }
  ]
}